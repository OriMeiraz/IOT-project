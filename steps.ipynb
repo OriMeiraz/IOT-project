{
 "cells": [
  {
   "cell_type": "code",
   "execution_count": 15,
   "metadata": {},
   "outputs": [],
   "source": [
    "import pandas as pd\n",
    "import numpy as np\n",
    "from glob import glob\n",
    "from sklearn.model_selection import train_test_split\n",
    "from sklearn.ensemble import RandomForestClassifier\n",
    "from sklearn.metrics import classification_report\n",
    "from sklearn.preprocessing import LabelEncoder\n",
    "import csv\n"
   ]
  },
  {
   "cell_type": "code",
   "execution_count": 30,
   "metadata": {},
   "outputs": [],
   "source": [
    "files = glob('data_set/*.csv')"
   ]
  },
  {
   "cell_type": "code",
   "execution_count": 31,
   "metadata": {},
   "outputs": [
    {
     "name": "stdout",
     "output_type": "stream",
     "text": [
      "Modified CSV file saved as 'drop 5 lines data_set/10_run_1_2.csv'.\n",
      "Modified CSV file saved as 'drop 5 lines data_set/10_run_2_2.csv'.\n",
      "Modified CSV file saved as 'drop 5 lines data_set/10_run_3_1.csv'.\n",
      "Modified CSV file saved as 'drop 5 lines data_set/10_run_4_1.csv'.\n",
      "Modified CSV file saved as 'drop 5 lines data_set/10_run_5_1.csv'.\n",
      "Modified CSV file saved as 'drop 5 lines data_set/10_walk_1_1.csv'.\n",
      "Modified CSV file saved as 'drop 5 lines data_set/10_walk_2_2.csv'.\n",
      "Modified CSV file saved as 'drop 5 lines data_set/10_walk_3_2.csv'.\n",
      "Modified CSV file saved as 'drop 5 lines data_set/10_walk_4_3.csv'.\n",
      "Modified CSV file saved as 'drop 5 lines data_set/10_walk_5_3.csv'.\n",
      "Modified CSV file saved as 'drop 5 lines data_set/11_run_1_1.csv'.\n",
      "Modified CSV file saved as 'drop 5 lines data_set/11_run_2_1.csv'.\n",
      "Modified CSV file saved as 'drop 5 lines data_set/11_run_3_1.csv'.\n",
      "Modified CSV file saved as 'drop 5 lines data_set/11_run_4_1.csv'.\n",
      "Modified CSV file saved as 'drop 5 lines data_set/11_run_5_1.csv'.\n",
      "Modified CSV file saved as 'drop 5 lines data_set/11_walk_1_2.csv'.\n",
      "Modified CSV file saved as 'drop 5 lines data_set/11_walk_2_2.csv'.\n",
      "Modified CSV file saved as 'drop 5 lines data_set/11_walk_3_2.csv'.\n",
      "Modified CSV file saved as 'drop 5 lines data_set/11_walk_4_1.csv'.\n",
      "Modified CSV file saved as 'drop 5 lines data_set/11_walk_5_1.csv'.\n",
      "Modified CSV file saved as 'drop 5 lines data_set/12_run_1_2.csv'.\n",
      "Modified CSV file saved as 'drop 5 lines data_set/12_run_2_2.csv'.\n",
      "Modified CSV file saved as 'drop 5 lines data_set/12_run_3_2.csv'.\n",
      "Modified CSV file saved as 'drop 5 lines data_set/12_run_4_3.csv'.\n",
      "Modified CSV file saved as 'drop 5 lines data_set/12_run_5_3.csv'.\n",
      "Modified CSV file saved as 'drop 5 lines data_set/12_walk_1_1.csv'.\n",
      "Modified CSV file saved as 'drop 5 lines data_set/12_walk_2_1.csv'.\n",
      "Modified CSV file saved as 'drop 5 lines data_set/12_walk_3_1.csv'.\n",
      "Modified CSV file saved as 'drop 5 lines data_set/12_walk_4_1.csv'.\n",
      "Modified CSV file saved as 'drop 5 lines data_set/12_walk_5_1.csv'.\n",
      "Modified CSV file saved as 'drop 5 lines data_set/13_run_1_1.csv'.\n",
      "Modified CSV file saved as 'drop 5 lines data_set/13_run_2_1.csv'.\n",
      "Modified CSV file saved as 'drop 5 lines data_set/13_run_3_1.csv'.\n",
      "Modified CSV file saved as 'drop 5 lines data_set/13_run_4_1.csv'.\n",
      "Modified CSV file saved as 'drop 5 lines data_set/13_run_5_1.csv'.\n",
      "Modified CSV file saved as 'drop 5 lines data_set/13_walk_1_1.csv'.\n",
      "Modified CSV file saved as 'drop 5 lines data_set/13_walk_2_1.csv'.\n",
      "Modified CSV file saved as 'drop 5 lines data_set/13_walk_3_1.csv'.\n",
      "Modified CSV file saved as 'drop 5 lines data_set/13_walk_4_2.csv'.\n",
      "Modified CSV file saved as 'drop 5 lines data_set/13_walk_5_2.csv'.\n",
      "Modified CSV file saved as 'drop 5 lines data_set/14_run_1_1.csv'.\n",
      "Modified CSV file saved as 'drop 5 lines data_set/14_run_2_1.csv'.\n",
      "Modified CSV file saved as 'drop 5 lines data_set/14_run_3_1.csv'.\n",
      "Modified CSV file saved as 'drop 5 lines data_set/14_run_4_1.csv'.\n",
      "Modified CSV file saved as 'drop 5 lines data_set/14_run_5_1.csv'.\n",
      "Modified CSV file saved as 'drop 5 lines data_set/14_walk_1_1.csv'.\n",
      "Modified CSV file saved as 'drop 5 lines data_set/14_walk_2_1.csv'.\n",
      "Modified CSV file saved as 'drop 5 lines data_set/14_walk_3_1.csv'.\n",
      "Modified CSV file saved as 'drop 5 lines data_set/14_walk_4_1.csv'.\n",
      "Modified CSV file saved as 'drop 5 lines data_set/14_walk_5_1.csv'.\n",
      "Modified CSV file saved as 'drop 5 lines data_set/15_run_1_1.csv'.\n",
      "Modified CSV file saved as 'drop 5 lines data_set/15_run_2_1.csv'.\n",
      "Modified CSV file saved as 'drop 5 lines data_set/15_run_3_2.csv'.\n",
      "Modified CSV file saved as 'drop 5 lines data_set/15_run_4_2.csv'.\n",
      "Modified CSV file saved as 'drop 5 lines data_set/15_run_5_2.csv'.\n",
      "Modified CSV file saved as 'drop 5 lines data_set/15_walk_1_2.csv'.\n",
      "Modified CSV file saved as 'drop 5 lines data_set/15_walk_2_2.csv'.\n",
      "Modified CSV file saved as 'drop 5 lines data_set/15_walk_3_2.csv'.\n",
      "Modified CSV file saved as 'drop 5 lines data_set/15_walk_4_1.csv'.\n",
      "Modified CSV file saved as 'drop 5 lines data_set/15_walk_5_1.csv'.\n"
     ]
    },
    {
     "ename": "UnicodeDecodeError",
     "evalue": "'utf-8' codec can't decode bytes in position 15-16: invalid continuation byte",
     "output_type": "error",
     "traceback": [
      "\u001b[1;31m---------------------------------------------------------------------------\u001b[0m",
      "\u001b[1;31mUnicodeDecodeError\u001b[0m                        Traceback (most recent call last)",
      "Cell \u001b[1;32mIn[31], line 16\u001b[0m\n\u001b[0;32m     12\u001b[0m     \u001b[39mprint\u001b[39m(\u001b[39mf\u001b[39m\u001b[39m\"\u001b[39m\u001b[39mModified CSV file saved as \u001b[39m\u001b[39m'\u001b[39m\u001b[39m{\u001b[39;00moutput_file\u001b[39m}\u001b[39;00m\u001b[39m'\u001b[39m\u001b[39m.\u001b[39m\u001b[39m\"\u001b[39m)\n\u001b[0;32m     15\u001b[0m \u001b[39mfor\u001b[39;00m file \u001b[39min\u001b[39;00m files:\n\u001b[1;32m---> 16\u001b[0m     delete_lines_and_save(file, \u001b[39m'\u001b[39;49m\u001b[39mdrop 5 lines data_set/\u001b[39;49m\u001b[39m'\u001b[39;49m \u001b[39m+\u001b[39;49m file\u001b[39m.\u001b[39;49msplit(\u001b[39m'\u001b[39;49m\u001b[39m\\\\\u001b[39;49;00m\u001b[39m'\u001b[39;49m)[\u001b[39m1\u001b[39;49m])\n",
      "Cell \u001b[1;32mIn[31], line 3\u001b[0m, in \u001b[0;36mdelete_lines_and_save\u001b[1;34m(input_file, output_file)\u001b[0m\n\u001b[0;32m      1\u001b[0m \u001b[39mdef\u001b[39;00m \u001b[39mdelete_lines_and_save\u001b[39m(input_file, output_file):\n\u001b[0;32m      2\u001b[0m     \u001b[39mwith\u001b[39;00m \u001b[39mopen\u001b[39m(input_file, \u001b[39m'\u001b[39m\u001b[39mr\u001b[39m\u001b[39m'\u001b[39m) \u001b[39mas\u001b[39;00m file:\n\u001b[1;32m----> 3\u001b[0m         lines \u001b[39m=\u001b[39m file\u001b[39m.\u001b[39;49mreadlines()\n\u001b[0;32m      5\u001b[0m     \u001b[39m# Delete the first five lines\u001b[39;00m\n\u001b[0;32m      6\u001b[0m     modified_lines \u001b[39m=\u001b[39m lines[\u001b[39m5\u001b[39m:]\n",
      "File \u001b[1;32mc:\\Users\\danie\\anaconda3\\lib\\codecs.py:322\u001b[0m, in \u001b[0;36mBufferedIncrementalDecoder.decode\u001b[1;34m(self, input, final)\u001b[0m\n\u001b[0;32m    319\u001b[0m \u001b[39mdef\u001b[39;00m \u001b[39mdecode\u001b[39m(\u001b[39mself\u001b[39m, \u001b[39minput\u001b[39m, final\u001b[39m=\u001b[39m\u001b[39mFalse\u001b[39;00m):\n\u001b[0;32m    320\u001b[0m     \u001b[39m# decode input (taking the buffer into account)\u001b[39;00m\n\u001b[0;32m    321\u001b[0m     data \u001b[39m=\u001b[39m \u001b[39mself\u001b[39m\u001b[39m.\u001b[39mbuffer \u001b[39m+\u001b[39m \u001b[39minput\u001b[39m\n\u001b[1;32m--> 322\u001b[0m     (result, consumed) \u001b[39m=\u001b[39m \u001b[39mself\u001b[39;49m\u001b[39m.\u001b[39;49m_buffer_decode(data, \u001b[39mself\u001b[39;49m\u001b[39m.\u001b[39;49merrors, final)\n\u001b[0;32m    323\u001b[0m     \u001b[39m# keep undecoded input until the next call\u001b[39;00m\n\u001b[0;32m    324\u001b[0m     \u001b[39mself\u001b[39m\u001b[39m.\u001b[39mbuffer \u001b[39m=\u001b[39m data[consumed:]\n",
      "\u001b[1;31mUnicodeDecodeError\u001b[0m: 'utf-8' codec can't decode bytes in position 15-16: invalid continuation byte"
     ]
    }
   ],
   "source": [
    "def delete_lines_and_save(input_file, output_file):\n",
    "    with open(input_file, 'r') as file:\n",
    "        lines = file.readlines()\n",
    "\n",
    "    # Delete the first five lines\n",
    "    modified_lines = lines[5:]\n",
    "\n",
    "    with open(output_file, 'w', newline='') as file:\n",
    "        writer = csv.writer(file)\n",
    "        writer.writerows([line.strip().split(',') for line in modified_lines])\n",
    "\n",
    "    print(f\"Modified CSV file saved as '{output_file}'.\")\n",
    "\n",
    "\n",
    "for file in files:\n",
    "    delete_lines_and_save(file, 'drop 5 lines data_set/' + file.split('\\\\')[1])"
   ]
  },
  {
   "cell_type": "code",
   "execution_count": 12,
   "metadata": {},
   "outputs": [
    {
     "ename": "ParserError",
     "evalue": "Error tokenizing data. C error: Expected 2 fields in line 6, saw 4\n",
     "output_type": "error",
     "traceback": [
      "\u001b[1;31m---------------------------------------------------------------------------\u001b[0m",
      "\u001b[1;31mParserError\u001b[0m                               Traceback (most recent call last)",
      "Cell \u001b[1;32mIn[12], line 1\u001b[0m\n\u001b[1;32m----> 1\u001b[0m pd\u001b[39m.\u001b[39;49mread_csv(files[\u001b[39m0\u001b[39;49m])\n",
      "File \u001b[1;32mc:\\Users\\danie\\anaconda3\\lib\\site-packages\\pandas\\util\\_decorators.py:211\u001b[0m, in \u001b[0;36mdeprecate_kwarg.<locals>._deprecate_kwarg.<locals>.wrapper\u001b[1;34m(*args, **kwargs)\u001b[0m\n\u001b[0;32m    209\u001b[0m     \u001b[39melse\u001b[39;00m:\n\u001b[0;32m    210\u001b[0m         kwargs[new_arg_name] \u001b[39m=\u001b[39m new_arg_value\n\u001b[1;32m--> 211\u001b[0m \u001b[39mreturn\u001b[39;00m func(\u001b[39m*\u001b[39margs, \u001b[39m*\u001b[39m\u001b[39m*\u001b[39mkwargs)\n",
      "File \u001b[1;32mc:\\Users\\danie\\anaconda3\\lib\\site-packages\\pandas\\util\\_decorators.py:331\u001b[0m, in \u001b[0;36mdeprecate_nonkeyword_arguments.<locals>.decorate.<locals>.wrapper\u001b[1;34m(*args, **kwargs)\u001b[0m\n\u001b[0;32m    325\u001b[0m \u001b[39mif\u001b[39;00m \u001b[39mlen\u001b[39m(args) \u001b[39m>\u001b[39m num_allow_args:\n\u001b[0;32m    326\u001b[0m     warnings\u001b[39m.\u001b[39mwarn(\n\u001b[0;32m    327\u001b[0m         msg\u001b[39m.\u001b[39mformat(arguments\u001b[39m=\u001b[39m_format_argument_list(allow_args)),\n\u001b[0;32m    328\u001b[0m         \u001b[39mFutureWarning\u001b[39;00m,\n\u001b[0;32m    329\u001b[0m         stacklevel\u001b[39m=\u001b[39mfind_stack_level(),\n\u001b[0;32m    330\u001b[0m     )\n\u001b[1;32m--> 331\u001b[0m \u001b[39mreturn\u001b[39;00m func(\u001b[39m*\u001b[39margs, \u001b[39m*\u001b[39m\u001b[39m*\u001b[39mkwargs)\n",
      "File \u001b[1;32mc:\\Users\\danie\\anaconda3\\lib\\site-packages\\pandas\\io\\parsers\\readers.py:950\u001b[0m, in \u001b[0;36mread_csv\u001b[1;34m(filepath_or_buffer, sep, delimiter, header, names, index_col, usecols, squeeze, prefix, mangle_dupe_cols, dtype, engine, converters, true_values, false_values, skipinitialspace, skiprows, skipfooter, nrows, na_values, keep_default_na, na_filter, verbose, skip_blank_lines, parse_dates, infer_datetime_format, keep_date_col, date_parser, dayfirst, cache_dates, iterator, chunksize, compression, thousands, decimal, lineterminator, quotechar, quoting, doublequote, escapechar, comment, encoding, encoding_errors, dialect, error_bad_lines, warn_bad_lines, on_bad_lines, delim_whitespace, low_memory, memory_map, float_precision, storage_options)\u001b[0m\n\u001b[0;32m    935\u001b[0m kwds_defaults \u001b[39m=\u001b[39m _refine_defaults_read(\n\u001b[0;32m    936\u001b[0m     dialect,\n\u001b[0;32m    937\u001b[0m     delimiter,\n\u001b[1;32m   (...)\u001b[0m\n\u001b[0;32m    946\u001b[0m     defaults\u001b[39m=\u001b[39m{\u001b[39m\"\u001b[39m\u001b[39mdelimiter\u001b[39m\u001b[39m\"\u001b[39m: \u001b[39m\"\u001b[39m\u001b[39m,\u001b[39m\u001b[39m\"\u001b[39m},\n\u001b[0;32m    947\u001b[0m )\n\u001b[0;32m    948\u001b[0m kwds\u001b[39m.\u001b[39mupdate(kwds_defaults)\n\u001b[1;32m--> 950\u001b[0m \u001b[39mreturn\u001b[39;00m _read(filepath_or_buffer, kwds)\n",
      "File \u001b[1;32mc:\\Users\\danie\\anaconda3\\lib\\site-packages\\pandas\\io\\parsers\\readers.py:611\u001b[0m, in \u001b[0;36m_read\u001b[1;34m(filepath_or_buffer, kwds)\u001b[0m\n\u001b[0;32m    608\u001b[0m     \u001b[39mreturn\u001b[39;00m parser\n\u001b[0;32m    610\u001b[0m \u001b[39mwith\u001b[39;00m parser:\n\u001b[1;32m--> 611\u001b[0m     \u001b[39mreturn\u001b[39;00m parser\u001b[39m.\u001b[39;49mread(nrows)\n",
      "File \u001b[1;32mc:\\Users\\danie\\anaconda3\\lib\\site-packages\\pandas\\io\\parsers\\readers.py:1778\u001b[0m, in \u001b[0;36mTextFileReader.read\u001b[1;34m(self, nrows)\u001b[0m\n\u001b[0;32m   1771\u001b[0m nrows \u001b[39m=\u001b[39m validate_integer(\u001b[39m\"\u001b[39m\u001b[39mnrows\u001b[39m\u001b[39m\"\u001b[39m, nrows)\n\u001b[0;32m   1772\u001b[0m \u001b[39mtry\u001b[39;00m:\n\u001b[0;32m   1773\u001b[0m     \u001b[39m# error: \"ParserBase\" has no attribute \"read\"\u001b[39;00m\n\u001b[0;32m   1774\u001b[0m     (\n\u001b[0;32m   1775\u001b[0m         index,\n\u001b[0;32m   1776\u001b[0m         columns,\n\u001b[0;32m   1777\u001b[0m         col_dict,\n\u001b[1;32m-> 1778\u001b[0m     ) \u001b[39m=\u001b[39m \u001b[39mself\u001b[39;49m\u001b[39m.\u001b[39;49m_engine\u001b[39m.\u001b[39;49mread(  \u001b[39m# type: ignore[attr-defined]\u001b[39;49;00m\n\u001b[0;32m   1779\u001b[0m         nrows\n\u001b[0;32m   1780\u001b[0m     )\n\u001b[0;32m   1781\u001b[0m \u001b[39mexcept\u001b[39;00m \u001b[39mException\u001b[39;00m:\n\u001b[0;32m   1782\u001b[0m     \u001b[39mself\u001b[39m\u001b[39m.\u001b[39mclose()\n",
      "File \u001b[1;32mc:\\Users\\danie\\anaconda3\\lib\\site-packages\\pandas\\io\\parsers\\c_parser_wrapper.py:230\u001b[0m, in \u001b[0;36mCParserWrapper.read\u001b[1;34m(self, nrows)\u001b[0m\n\u001b[0;32m    228\u001b[0m \u001b[39mtry\u001b[39;00m:\n\u001b[0;32m    229\u001b[0m     \u001b[39mif\u001b[39;00m \u001b[39mself\u001b[39m\u001b[39m.\u001b[39mlow_memory:\n\u001b[1;32m--> 230\u001b[0m         chunks \u001b[39m=\u001b[39m \u001b[39mself\u001b[39;49m\u001b[39m.\u001b[39;49m_reader\u001b[39m.\u001b[39;49mread_low_memory(nrows)\n\u001b[0;32m    231\u001b[0m         \u001b[39m# destructive to chunks\u001b[39;00m\n\u001b[0;32m    232\u001b[0m         data \u001b[39m=\u001b[39m _concatenate_chunks(chunks)\n",
      "File \u001b[1;32mc:\\Users\\danie\\anaconda3\\lib\\site-packages\\pandas\\_libs\\parsers.pyx:808\u001b[0m, in \u001b[0;36mpandas._libs.parsers.TextReader.read_low_memory\u001b[1;34m()\u001b[0m\n",
      "File \u001b[1;32mc:\\Users\\danie\\anaconda3\\lib\\site-packages\\pandas\\_libs\\parsers.pyx:866\u001b[0m, in \u001b[0;36mpandas._libs.parsers.TextReader._read_rows\u001b[1;34m()\u001b[0m\n",
      "File \u001b[1;32mc:\\Users\\danie\\anaconda3\\lib\\site-packages\\pandas\\_libs\\parsers.pyx:852\u001b[0m, in \u001b[0;36mpandas._libs.parsers.TextReader._tokenize_rows\u001b[1;34m()\u001b[0m\n",
      "File \u001b[1;32mc:\\Users\\danie\\anaconda3\\lib\\site-packages\\pandas\\_libs\\parsers.pyx:1973\u001b[0m, in \u001b[0;36mpandas._libs.parsers.raise_parser_error\u001b[1;34m()\u001b[0m\n",
      "\u001b[1;31mParserError\u001b[0m: Error tokenizing data. C error: Expected 2 fields in line 6, saw 4\n"
     ]
    }
   ],
   "source": [
    "pd.read_csv(files[0])"
   ]
  },
  {
   "cell_type": "code",
   "execution_count": null,
   "metadata": {},
   "outputs": [],
   "source": [
    "data = pd.concat([pd.read_csv(file) for file in files], ignore_index=True)\n",
    "\n",
    "# Preprocess the data\n",
    "# Here, we'll just scale the acceleration values, but depending on your data you might need more preprocessing steps\n",
    "\n",
    "data['Acc_X'] = data['Acc_X'] / data['Acc_X'].abs().max()\n",
    "data['Acc_Y'] = data['Acc_Y'] / data['Acc_Y'].abs().max()\n",
    "data['Acc_Z'] = data['Acc_Z'] / data['Acc_Z'].abs().max()\n",
    "\n",
    "# Prepare the features (X) and target (y)\n",
    "X = data[['Acc_X', 'Acc_Y', 'Acc_Z']]\n",
    "y = data['Activity']\n",
    "\n",
    "# Encode the target labels to integers\n",
    "le = LabelEncoder()\n",
    "y = le.fit_transform(y)\n",
    "\n",
    "# Split the data\n",
    "X_train, X_test, y_train, y_test = train_test_split(X, y, test_size=0.2, random_state=42)\n",
    "\n",
    "# Train a classifier\n",
    "clf = RandomForestClassifier(n_estimators=100, random_state=42)\n",
    "clf.fit(X_train, y_train)\n",
    "\n",
    "# Evaluate the classifier\n",
    "y_pred = clf.predict(X_test)\n",
    "print(classification_report(y_test, y_pred, target_names=le.classes_))\n",
    "\n",
    "# Now you can use clf to predict new samples\n",
    "# new_samples should be a 2D array with each row containing Acc_X, Acc_Y, and Acc_Z values\n",
    "# new_samples = np.array([[0.5, 0.3, 0.2], [0.7, 0.1, 0.6]])\n",
    "# predictions = clf.predict(new_samples)\n",
    "# predicted_labels = le.inverse_transform(predictions)\n",
    "# print(predicted_labels)"
   ]
  }
 ],
 "metadata": {
  "kernelspec": {
   "display_name": "base",
   "language": "python",
   "name": "python3"
  },
  "language_info": {
   "codemirror_mode": {
    "name": "ipython",
    "version": 3
   },
   "file_extension": ".py",
   "mimetype": "text/x-python",
   "name": "python",
   "nbconvert_exporter": "python",
   "pygments_lexer": "ipython3",
   "version": "3.10.9"
  },
  "orig_nbformat": 4
 },
 "nbformat": 4,
 "nbformat_minor": 2
}
